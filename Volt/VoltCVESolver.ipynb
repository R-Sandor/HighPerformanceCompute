{
 "cells": [
  {
   "cell_type": "markdown",
   "id": "f25839c2-9d92-4789-9dd7-353952d23077",
   "metadata": {},
   "source": [
    "# ReadMe\n",
    "The objective of this project is to read the National Vulnerability Database's (NVD) of Common exposures and vulnerabilites (CVES) and create a tool \n",
    "that is used as a part of the data pipeline to determine how similar CVE's are to one another. \n",
    "\n",
    "The first goal to such a pipeline is to clean the description data, tokenize the data. The second goal is tokenize and read the data that will be used as a training label. \n",
    "\n",
    "# Requirements\n",
    "Required packages:\n",
    "- pyspark\n",
    "- numpy\n",
    "\n",
    "TF-IDF use cases:\n",
    "- LDA\n",
    "- Similarity with\n",
    "1. **Feature Selection**:\n",
    "   - Examine the top TF-IDF terms to identify important features. You can select a subset of these features for further analysis or modeling.\n",
    "   - Consider removing low-TF-IDF terms (common words) that might not contribute significantly to your task.\n",
    "\n",
    "2. **Clustering and Topic Modeling**:\n",
    "   - Apply clustering algorithms (e.g., K-means, DBSCAN) to group similar documents based on their TF-IDF vectors.\n",
    "   - Explore topic modeling techniques (e.g., Latent Dirichlet Allocation, Non-Negative Matrix Factorization) to discover latent topics within your corpus.\n",
    "\n",
    "3. **Document Similarity**:\n",
    "   - Calculate cosine similarity between TF-IDF vectors of different documents. This helps identify similar documents.\n",
    "   - Use similarity scores to recommend related articles, products, or content.\n",
    "\n",
    "4. **Classification and Sentiment Analysis**:\n",
    "   - Train classifiers (e.g., SVM, Random Forest) using TF-IDF features as input. This is useful for tasks like sentiment analysis, spam detection, or document categorization.\n",
    "   - Convert text data into TF-IDF vectors and use them as features for machine learning models.\n",
    "\n",
    "5. **Search and Information Retrieval**:\n",
    "   - Build an inverted index using TF-IDF vectors to create an efficient search engine.\n",
    "   - Retrieve relevant documents based on user queries by ranking them using their TF-IDF scores.\n",
    "\n",
    "6. **Visualizations**:\n",
    "   - Visualize TF-IDF scores using word clouds, scatter plots, or bar charts to gain insights into term importance.\n",
    "   - Plot the distribution of TF-IDF values across the entire dataset.\n",
    "\n",
    "7. **Optimize Hyperparameters**:\n",
    "   - Experiment with different parameters (e.g., n-grams, stop words, max features) in your TF-IDF vectorization process.\n",
    "   - Use cross-validation to find optimal settings.\n",
    "\n",
    "TODO: Find sources to back up these claims."
   ]
  },
  {
   "cell_type": "code",
   "execution_count": 1,
   "id": "0ec292ec-4971-401b-bb8a-df0d79a467bc",
   "metadata": {},
   "outputs": [],
   "source": [
    "import os, math, re\n",
    "import pyspark\n",
    "import urllib.request\n",
    "import zipfile\n",
    "from pyspark.sql import SparkSession\n",
    "from pyspark.sql.functions import  col, count, concat_ws, explode, expr, countDistinct, udf, split, sum\n",
    "from pyspark.sql.types import DoubleType, StringType, ArrayType\n",
    "from pyspark.ml.feature import StopWordsRemover\n"
   ]
  },
  {
   "cell_type": "code",
   "execution_count": 2,
   "id": "0abf5b21-76a6-45a8-862b-ab0e82b43e1b",
   "metadata": {},
   "outputs": [],
   "source": [
    "# Load the dataset if it doesn't already exist. \n",
    "data_dir = \"data\"\n",
    "os.makedirs(data_dir, exist_ok=True) \n",
    "fileUrls = [\n",
    "        'https://nvd.nist.gov/feeds/json/cve/1.1/nvdcve-1.1-2002.json.zip',\n",
    "        'https://nvd.nist.gov/feeds/json/cve/1.1/nvdcve-1.1-2003.json.zip',\n",
    "        'https://nvd.nist.gov/feeds/json/cve/1.1/nvdcve-1.1-2004.json.zip',\n",
    "        'https://nvd.nist.gov/feeds/json/cve/1.1/nvdcve-1.1-2005.json.zip',\n",
    "        'https://nvd.nist.gov/feeds/json/cve/1.1/nvdcve-1.1-2006.json.zip',\n",
    "        'https://nvd.nist.gov/feeds/json/cve/1.1/nvdcve-1.1-2007.json.zip',\n",
    "        'https://nvd.nist.gov/feeds/json/cve/1.1/nvdcve-1.1-2008.json.zip',\n",
    "        'https://nvd.nist.gov/feeds/json/cve/1.1/nvdcve-1.1-2009.json.zip',\n",
    "        'https://nvd.nist.gov/feeds/json/cve/1.1/nvdcve-1.1-2010.json.zip',\n",
    "        'https://nvd.nist.gov/feeds/json/cve/1.1/nvdcve-1.1-2011.json.zip',\n",
    "        'https://nvd.nist.gov/feeds/json/cve/1.1/nvdcve-1.1-2012.json.zip',\n",
    "        'https://nvd.nist.gov/feeds/json/cve/1.1/nvdcve-1.1-2013.json.zip',\n",
    "        'https://nvd.nist.gov/feeds/json/cve/1.1/nvdcve-1.1-2014.json.zip',\n",
    "        'https://nvd.nist.gov/feeds/json/cve/1.1/nvdcve-1.1-2015.json.zip',\n",
    "        'https://nvd.nist.gov/feeds/json/cve/1.1/nvdcve-1.1-2016.json.zip',\n",
    "        'https://nvd.nist.gov/feeds/json/cve/1.1/nvdcve-1.1-2017.json.zip',\n",
    "        'https://nvd.nist.gov/feeds/json/cve/1.1/nvdcve-1.1-2018.json.zip',\n",
    "        'https://nvd.nist.gov/feeds/json/cve/1.1/nvdcve-1.1-2019.json.zip',\n",
    "        'https://nvd.nist.gov/feeds/json/cve/1.1/nvdcve-1.1-2020.json.zip',\n",
    "        'https://nvd.nist.gov/feeds/json/cve/1.1/nvdcve-1.1-2021.json.zip',\n",
    "        'https://nvd.nist.gov/feeds/json/cve/1.1/nvdcve-1.1-2022.json.zip',\n",
    "        'https://nvd.nist.gov/feeds/json/cve/1.1/nvdcve-1.1-2023.json.zip',\n",
    "        'https://nvd.nist.gov/feeds/json/cve/1.1/nvdcve-1.1-2024.json.zip',\n",
    "        'https://nvd.nist.gov/feeds/json/cve/1.1/nvdcve-1.1-recent.json.zip'\n",
    "    ]\n",
    "\n",
    "# Iterate through each URL\n",
    "for url in fileUrls:\n",
    "    filename = url.split(\"/\")[-1]\n",
    "    outputfile = os.path.join(data_dir, filename)\n",
    "    checkfile = os.path.join(data_dir, os.path.splitext(filename)[0])\n",
    "\n",
    "    # Check if the file already exists\n",
    "    if not os.path.exists(checkfile):\n",
    "        # Download the file\n",
    "        urllib.request.urlretrieve(url, outputfile)\n",
    "        print(f\"Downloaded: {filename}\")\n",
    "\n",
    "        # Extract the file\n",
    "        with zipfile.ZipFile(outputfile, \"r\") as zip_ref:\n",
    "            zip_ref.extractall(data_dir)\n",
    "\n",
    "        # Delete the original zip file\n",
    "        os.remove(outputfile)\n",
    "\n"
   ]
  },
  {
   "cell_type": "code",
   "execution_count": 3,
   "id": "a0a35d5c-291b-44b8-b51d-71ad35bf0f99",
   "metadata": {},
   "outputs": [
    {
     "name": "stderr",
     "output_type": "stream",
     "text": [
      "24/03/18 05:56:06 WARN Utils: Your hostname, sandbox resolves to a loopback address: 127.0.0.1; using 192.168.0.14 instead (on interface eth0)\n",
      "24/03/18 05:56:06 WARN Utils: Set SPARK_LOCAL_IP if you need to bind to another address\n",
      "Setting default log level to \"WARN\".\n",
      "To adjust logging level use sc.setLogLevel(newLevel). For SparkR, use setLogLevel(newLevel).\n",
      "24/03/18 05:56:06 WARN NativeCodeLoader: Unable to load native-hadoop library for your platform... using builtin-java classes where applicable\n",
      "                                                                                \r"
     ]
    },
    {
     "name": "stdout",
     "output_type": "stream",
     "text": [
      "+-------------+------------+\n",
      "|           id|       label|\n",
      "+-------------+------------+\n",
      "|CVE-2020-0001|     android|\n",
      "|CVE-2020-0002|     android|\n",
      "|CVE-2020-0003|     android|\n",
      "|CVE-2020-0004|     android|\n",
      "|CVE-2020-0005|     android|\n",
      "|CVE-2020-0006|     android|\n",
      "|CVE-2020-0007|     android|\n",
      "|CVE-2020-0008|     android|\n",
      "|CVE-2020-0009|     android|\n",
      "|CVE-2020-0009|debian_linux|\n",
      "|CVE-2020-0010|     android|\n",
      "|CVE-2020-0011|     android|\n",
      "|CVE-2020-0012|     android|\n",
      "|CVE-2020-0014|     android|\n",
      "|CVE-2020-0015|     android|\n",
      "|CVE-2020-0016|     android|\n",
      "|CVE-2020-0017|     android|\n",
      "|CVE-2020-0018|     android|\n",
      "|CVE-2020-0019|     android|\n",
      "|CVE-2020-0020|     android|\n",
      "+-------------+------------+\n",
      "only showing top 20 rows\n",
      "\n",
      "root\n",
      " |-- id: string (nullable = true)\n",
      " |-- label: string (nullable = true)\n",
      "\n"
     ]
    },
    {
     "name": "stderr",
     "output_type": "stream",
     "text": [
      "[Stage 2:>                                                          (0 + 1) / 1]\r"
     ]
    },
    {
     "name": "stdout",
     "output_type": "stream",
     "text": [
      "Number of docs: 20453\n"
     ]
    },
    {
     "name": "stderr",
     "output_type": "stream",
     "text": [
      "                                                                                \r"
     ]
    }
   ],
   "source": [
    "spark = (\n",
    "    SparkSession.builder\n",
    "        .master(\"local[*]\")\n",
    "        .appName(\"voltcve\")\n",
    "        .config(\"spark.driver.host\", \"127.0.0.1\")\n",
    "        .config(\"spark.driver.bindAddress\", \"127.0.0.1\")\n",
    "        .config(\"spark.default.parallelism\", 8)\n",
    "        .config(\"spark.driver.memory\", \"20g\") \\\n",
    "       .config(\"spark.executor.memory\", \"5g\") \\\n",
    "        .getOrCreate()\n",
    ")\n",
    "# read the data\n",
    "cves = spark.read.option(\"multiline\", \"true\").json(\"data/nvdcve-1.1-2020.json\")\n",
    "\n",
    "# Manipulate the data to be more usable \n",
    "exploded = cves.select(explode(col(\"CVE_Items\")).alias(\"cves\"))\n",
    "\n",
    "\n",
    "# Now 'exploded' contains individual rows for each 'CVE_Item'\n",
    "# Scheme format: https://en.wikipedia.org/wiki/Common_Platform_Enumeration\n",
    "# cpe:<cpe_version>:<part>:<vendor>:<product>:<version>:<update>:<edition>:<language>:<sw_edition>:<target_sw>:<target_hw>:<other>\n",
    "cpe_df = exploded.select(col(\"cves.cve.CVE_data_meta.ID\").alias(\"id\"), explode(col(\"cves.configurations.nodes.cpe_match\")).alias(\"cpe\"))\n",
    "\n",
    "# Take just the first row to train. The CPE23Uri will contain a lot of repeated data\n",
    "# As each version is given a row.\n",
    "cpe_df = cpe_df.select(col(\"id\"), col(\"cpe\")[0].alias(\"cpe\"))\n",
    "cpe_df = cpe_df.select(\"id\", split(cpe_df.cpe.cpe23uri,\":\",-1)[4].alias(\"label\"))\n",
    "\n",
    "cpe_df.show(truncate=200)\n",
    "cpe_df.printSchema()\n",
    "\n",
    "descr_df = exploded.select(col(\"cves.cve.CVE_data_meta.ID\").alias(\"id\"),\n",
    "          col(\"cves.cve.description.description_data.value\").alias(\"description\"));\n",
    "\n",
    "descr_df = descr_df.withColumn(\"description_single\", concat_ws(\" \", descr_df[\"description\"]))\n",
    "\n",
    "\n",
    "doc_count = descr_df.selectExpr(\"count(distinct id)\").first()[0]\n",
    "print(\"Number of docs: {}\".format(doc_count))"
   ]
  },
  {
   "cell_type": "markdown",
   "id": "e3d5f30d-ca76-4915-b2a7-fe3fa3c6e0b0",
   "metadata": {},
   "source": [
    "## Questions from the data:\n",
    "- Should CPE be trained on the same data with multiple labels?\n",
    "- How much data is enough to adequately train a word2vec model?\n",
    "\n",
    "## Tokenization: \n",
    "### Applying the right tokenization methods:\n",
    "The dataset contains a lot of data the ordinary tokenization may not apply. For example, file names contain puncutation and can leave the token meaningless. \n",
    "An effort was made to preserve all meaninful punction that would describe software or hardware configurations, while removing stop words, and ordinary english punctation. "
   ]
  },
  {
   "cell_type": "code",
   "execution_count": 4,
   "id": "850909ac-b461-45b6-8d55-327f2d71609b",
   "metadata": {},
   "outputs": [
    {
     "name": "stderr",
     "output_type": "stream",
     "text": [
      "[Stage 8:>                                                          (0 + 1) / 1]\r"
     ]
    },
    {
     "name": "stdout",
     "output_type": "stream",
     "text": [
      "+-------------+---------------------------+\n",
      "|           id|                      token|\n",
      "+-------------+---------------------------+\n",
      "|CVE-2020-0001|     getprocessrecordlocked|\n",
      "|CVE-2020-0001|activitymanagerservice.java|\n",
      "|CVE-2020-0001|                   isolated|\n",
      "|CVE-2020-0001|                       apps|\n",
      "|CVE-2020-0001|                    handled|\n",
      "|CVE-2020-0001|                  correctly|\n",
      "|CVE-2020-0001|                       lead|\n",
      "|CVE-2020-0001|                      local|\n",
      "|CVE-2020-0001|                 escalation|\n",
      "|CVE-2020-0001|                  privilege|\n",
      "|CVE-2020-0001|                 additional|\n",
      "|CVE-2020-0001|                  execution|\n",
      "|CVE-2020-0001|                 privileges|\n",
      "|CVE-2020-0001|                     needed|\n",
      "|CVE-2020-0001|                       user|\n",
      "|CVE-2020-0001|                interaction|\n",
      "|CVE-2020-0001|                     needed|\n",
      "|CVE-2020-0001|               exploitation|\n",
      "|CVE-2020-0001|                    product|\n",
      "|CVE-2020-0001|                    android|\n",
      "+-------------+---------------------------+\n",
      "only showing top 20 rows\n",
      "\n"
     ]
    },
    {
     "name": "stderr",
     "output_type": "stream",
     "text": [
      "                                                                                \r"
     ]
    }
   ],
   "source": [
    "@udf\n",
    "def string_cleaner(input_str):\n",
    "    # 1. Replace all \".\" or ':' followed by whitespace with an empty string.\n",
    "    # a. Remove ending periods.\n",
    "    # 2. Remove trademark, rights.\n",
    "    # 3. Grab cotent in parentheses only.\n",
    "    # 4. Remove some punctuation.\n",
    "    cleaned_text = re.sub(r\"[.:,]+\\s+\", \" \", input_str)\n",
    "    # Remove trailing periods\n",
    "    cleaned_text = re.sub(r\"\\.$\", \"\", cleaned_text)\n",
    "    # Remove apostrophes, (TM), (R), parentheses, and double quotes\n",
    "    cleaned_text = re.sub(r\"\\'|\\(TM\\)|\\(R\\)|\\(|\\)|\\\"\", \"\", cleaned_text)\n",
    "    # Convert to lowercase and strip leading/trailing spaces\n",
    "    cleaned_text = cleaned_text.strip().lower()\n",
    "    return cleaned_text\n",
    "\n",
    "clean_tokens = descr_df.withColumn(\"token\", split(string_cleaner(col(\"description_single\")), \" \" ))\n",
    "stop_words_remover = StopWordsRemover(inputCol=\"token\", outputCol=\"cleanToken\")\n",
    "clean_tokens = stop_words_remover.transform(clean_tokens)\n",
    "clean_tokens = clean_tokens.select(\"id\", explode(\"cleantoken\").alias(\"token\"))\n",
    "clean_tokens = clean_tokens.filter(col(\"token\").isNotNull())\n",
    "\n",
    "# # Show the resulting DataFrame\n",
    "clean_tokens.show(truncate=200)\n",
    "\n"
   ]
  },
  {
   "cell_type": "code",
   "execution_count": 5,
   "id": "9a2f8695-9403-4b47-a7ab-0d39a08edafd",
   "metadata": {},
   "outputs": [],
   "source": [
    "def tfidf(tokens, doc_count):\n",
    "    allTokensForId = tokens.groupBy(\"id\").agg(count(\"id\").alias(\"allTokensForId\"))\n",
    "\n",
    "    tfds = tokens.groupBy(\"id\", \"token\").agg(count(\"id\").alias(\"rawtf\"))\n",
    "    dfds = tokens.groupBy(\"token\").agg(countDistinct(\"id\").alias(\"df\"))\n",
    "\n",
    "    # Join the two DataFrames on 'id'\n",
    "    merged_df = tfds.join(allTokensForId, on=\"id\")\n",
    "\n",
    "    # Calculate the ratio of rawtf to allTokensForId\n",
    "    tfds = merged_df.withColumn(\"tf\", col(\"rawtf\") / col(\"allTokensForId\"))\n",
    "    \n",
    "\n",
    "    merged_df.show()\n",
    "\n",
    "    # Define the UDF for idf calculation\n",
    "    spark.udf.register(\"calcidfudf\", lambda df: calcidf(doc_count, df), DoubleType())\n",
    "\n",
    "    # Calculate idf and add it as a new column \"idf\"\n",
    "    tokens_idf = dfds.withColumn(\"idf\", expr(\"calcidfudf(df)\"))\n",
    "\n",
    "    # Show the resulting dataframe\n",
    "    tfidfds = tokens_idf.join(tfds, \"token\", \"left\") \\\n",
    "        .withColumn(\"tf_idf\", col(\"tf\") * col(\"idf\"))\n",
    "\n",
    "    return tfidfds\n",
    "\n",
    "def calcidf(doc_count, df):\n",
    "    # Calculate the tf-idf using natural log\n",
    "    return math.log((doc_count + 1.0) / (df + 1.0))\n"
   ]
  },
  {
   "cell_type": "code",
   "execution_count": 6,
   "id": "396ff4a5-c2c5-4cee-99bb-e609153b7e8d",
   "metadata": {},
   "outputs": [
    {
     "name": "stderr",
     "output_type": "stream",
     "text": [
      "                                                                                \r"
     ]
    },
    {
     "name": "stdout",
     "output_type": "stream",
     "text": [
      "+-------------+-----------+-----+--------------+\n",
      "|           id|      token|rawtf|allTokensForId|\n",
      "+-------------+-----------+-----+--------------+\n",
      "|CVE-2020-0002|       code|    1|            30|\n",
      "|CVE-2020-0003|       user|    1|            29|\n",
      "|CVE-2020-0005|a-141552859|    1|            28|\n",
      "|CVE-2020-0006|     needed|    2|            34|\n",
      "|CVE-2020-0022|       code|    1|            29|\n",
      "|CVE-2020-0022|  android-9|    1|            29|\n",
      "|CVE-2020-0029|       lead|    1|            25|\n",
      "|CVE-2020-0032|     needed|    2|            28|\n",
      "|CVE-2020-0033|      write|    1|            27|\n",
      "|CVE-2020-0038|  rw_i93.cc|    1|            29|\n",
      "|CVE-2020-0082|      local|    1|            26|\n",
      "|CVE-2020-0082|interaction|    1|            26|\n",
      "|CVE-2020-0097|interaction|    1|            27|\n",
      "|CVE-2020-0109|a-148059175|    1|            26|\n",
      "|CVE-2020-0110|      psi.c|    1|            28|\n",
      "|CVE-2020-0118|interaction|    1|            25|\n",
      "|CVE-2020-0138|    missing|    1|            31|\n",
      "|CVE-2020-0156|a-139736127|    1|            25|\n",
      "|CVE-2020-0165|      local|    1|            29|\n",
      "|CVE-2020-0167|     bounds|    1|            24|\n",
      "+-------------+-----------+-----+--------------+\n",
      "only showing top 20 rows\n",
      "\n"
     ]
    },
    {
     "name": "stderr",
     "output_type": "stream",
     "text": [
      "                                                                                \r"
     ]
    },
    {
     "name": "stdout",
     "output_type": "stream",
     "text": [
      "+-----------+---+------------------+--------------+-----+--------------+--------------------+--------------------+\n",
      "|      token| df|               idf|            id|rawtf|allTokensForId|                  tf|              tf_idf|\n",
      "+-----------+---+------------------+--------------+-----+--------------+--------------------+--------------------+\n",
      "|interaction|990|3.0272192070359702| CVE-2020-9745|    1|            37| 0.02702702702702703|  0.0818167353252965|\n",
      "|interaction|990|3.0272192070359702| CVE-2020-2880|    1|            85|0.011764705882352941| 0.03561434361218788|\n",
      "|interaction|990|3.0272192070359702|CVE-2020-14195|    1|            13| 0.07692307692307693| 0.23286301592584388|\n",
      "|interaction|990|3.0272192070359702| CVE-2020-0489|    1|            27|0.037037037037037035| 0.11211922989022112|\n",
      "|interaction|990|3.0272192070359702| CVE-2020-2832|    1|            83|0.012048192771084338| 0.03647252056669844|\n",
      "|interaction|990|3.0272192070359702|CVE-2020-14842|    1|            82|0.012195121951219513|0.036917307402877686|\n",
      "|interaction|990|3.0272192070359702|CVE-2020-14822|    1|            74|0.013513513513513514| 0.04090836766264825|\n",
      "|interaction|990|3.0272192070359702| CVE-2020-2825|    1|            83|0.012048192771084338| 0.03647252056669844|\n",
      "|interaction|990|3.0272192070359702| CVE-2020-2808|    1|            83|0.012048192771084338| 0.03647252056669844|\n",
      "|interaction|990|3.0272192070359702|CVE-2020-14835|    1|            80|              0.0125| 0.03784024008794963|\n",
      "|interaction|990|3.0272192070359702|CVE-2020-14768|    1|            96|0.010416666666666666| 0.03153353340662469|\n",
      "|interaction|990|3.0272192070359702| CVE-2020-0365|    1|            24|0.041666666666666664| 0.12613413362649875|\n",
      "|interaction|990|3.0272192070359702| CVE-2020-0035|    1|            29|0.034482758620689655|  0.1043868692081369|\n",
      "|interaction|990|3.0272192070359702|CVE-2020-35728|    1|            15| 0.06666666666666667|   0.201814613802398|\n",
      "|interaction|990|3.0272192070359702| CVE-2020-2717|    1|            76|0.013157894736842105| 0.03983183167152592|\n",
      "|interaction|990|3.0272192070359702| CVE-2020-0334|    1|            26|0.038461538461538464| 0.11643150796292194|\n",
      "|interaction|990|3.0272192070359702| CVE-2020-0248|    1|            24|0.041666666666666664| 0.12613413362649875|\n",
      "|interaction|990|3.0272192070359702| CVE-2020-0127|    1|            27|0.037037037037037035| 0.11211922989022112|\n",
      "|interaction|990|3.0272192070359702| CVE-2020-0081|    1|            27|0.037037037037037035| 0.11211922989022112|\n",
      "|interaction|990|3.0272192070359702|CVE-2020-35490|    1|            11| 0.09090909090909091| 0.27520174609417913|\n",
      "+-----------+---+------------------+--------------+-----+--------------+--------------------+--------------------+\n",
      "only showing top 20 rows\n",
      "\n"
     ]
    }
   ],
   "source": [
    "tfidf_df = tfidf(clean_tokens, doc_count)\n",
    "\n",
    "tfidf_df.show()"
   ]
  },
  {
   "cell_type": "code",
   "execution_count": null,
   "id": "c830abea-3d7d-4085-b2f7-7fa9f38af6b4",
   "metadata": {},
   "outputs": [],
   "source": []
  },
  {
   "cell_type": "code",
   "execution_count": null,
   "id": "97b7131c-23d2-4ba2-a8fb-f579cb838370",
   "metadata": {},
   "outputs": [],
   "source": []
  },
  {
   "cell_type": "code",
   "execution_count": null,
   "id": "46f82bcc-458e-4599-9b31-bb781f28bafc",
   "metadata": {},
   "outputs": [],
   "source": [
    "spark.stop()"
   ]
  },
  {
   "cell_type": "code",
   "execution_count": null,
   "id": "ed77fb5b-76ef-45c3-9d0c-7ea7e2b210d7",
   "metadata": {},
   "outputs": [],
   "source": []
  }
 ],
 "metadata": {
  "kernelspec": {
   "display_name": "Python 3 (ipykernel)",
   "language": "python",
   "name": "python3"
  },
  "language_info": {
   "codemirror_mode": {
    "name": "ipython",
    "version": 3
   },
   "file_extension": ".py",
   "mimetype": "text/x-python",
   "name": "python",
   "nbconvert_exporter": "python",
   "pygments_lexer": "ipython3",
   "version": "3.9.2"
  }
 },
 "nbformat": 4,
 "nbformat_minor": 5
}
