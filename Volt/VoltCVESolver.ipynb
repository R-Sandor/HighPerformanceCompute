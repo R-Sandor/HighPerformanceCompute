{
 "cells": [
  {
   "cell_type": "markdown",
   "id": "f25839c2-9d92-4789-9dd7-353952d23077",
   "metadata": {},
   "source": [
    "# ReadMe\n",
    "The objective of this project is to read the National Vulnerability Database's (NVD) of Common exposures and vulnerabilites (CVES) and create a tool \n",
    "that is used as a part of the data pipeline to determine how similar CVE's are to one another. \n",
    "\n",
    "The first goal to such a pipeline is to clean the description data, tokenize the data. The second goal is tokenize and read the data that will be used as a training label. "
   ]
  },
  {
   "cell_type": "code",
   "execution_count": 1,
   "id": "de5e268e-b3aa-4a8c-804a-d997f7fb50bb",
   "metadata": {
    "scrolled": true
   },
   "outputs": [
    {
     "name": "stdout",
     "output_type": "stream",
     "text": [
      "Defaulting to user installation because normal site-packages is not writeable\n",
      "Collecting pyspark\n",
      "  Downloading pyspark-3.5.1.tar.gz (317.0 MB)\n",
      "\u001b[2K     \u001b[38;2;114;156;31m━━━━━━━━━━━━━━━━━━━━━━━━━━━━━━━━━━━━━━━\u001b[0m \u001b[32m317.0/317.0 MB\u001b[0m \u001b[31m5.7 MB/s\u001b[0m eta \u001b[36m0:00:00\u001b[0mm eta \u001b[36m0:00:01\u001b[0m[36m0:00:01\u001b[0m\n",
      "\u001b[?25h  Preparing metadata (setup.py) ... \u001b[?25ldone\n",
      "\u001b[?25hCollecting py4j==0.10.9.7\n",
      "  Downloading py4j-0.10.9.7-py2.py3-none-any.whl (200 kB)\n",
      "\u001b[2K     \u001b[38;2;114;156;31m━━━━━━━━━━━━━━━━━━━━━━━━━━━━━━━━━━━━━━━\u001b[0m \u001b[32m200.5/200.5 KB\u001b[0m \u001b[31m9.2 MB/s\u001b[0m eta \u001b[36m0:00:00\u001b[0m\n",
      "\u001b[?25hBuilding wheels for collected packages: pyspark\n",
      "  Building wheel for pyspark (setup.py) ... \u001b[?25ldone\n",
      "\u001b[?25h  Created wheel for pyspark: filename=pyspark-3.5.1-py2.py3-none-any.whl size=317488513 sha256=969086f1c8b3abf02ed31fc806c8c0ce1fbcec2faf9d1d2fcbbc4143f14ef924\n",
      "  Stored in directory: /home/rsandor/.cache/pip/wheels/80/1d/60/2c256ed38dddce2fdd93be545214a63e02fbd8d74fb0b7f3a6\n",
      "Successfully built pyspark\n",
      "Installing collected packages: py4j, pyspark\n",
      "Successfully installed py4j-0.10.9.7 pyspark-3.5.1\n",
      "Note: you may need to restart the kernel to use updated packages.\n"
     ]
    }
   ],
   "source": [
    "pip install pyspark"
   ]
  },
  {
   "cell_type": "code",
   "execution_count": 23,
   "id": "0ec292ec-4971-401b-bb8a-df0d79a467bc",
   "metadata": {},
   "outputs": [],
   "source": [
    "import os, re\n",
    "import pyspark\n",
    "import urllib.request\n",
    "import zipfile\n",
    "from pyspark.sql import SparkSession\n",
    "from pyspark.sql.functions import  col, concat_ws, explode, countDistinct, udf, split\n",
    "from pyspark.sql.types import StringType, ArrayType\n"
   ]
  },
  {
   "cell_type": "code",
   "execution_count": 24,
   "id": "0abf5b21-76a6-45a8-862b-ab0e82b43e1b",
   "metadata": {},
   "outputs": [],
   "source": [
    "# Load the dataset if it doesn't already exist. \n",
    "data_dir = \"data\"\n",
    "os.makedirs(data_dir, exist_ok=True) \n",
    "fileUrls = [\n",
    "        'https://nvd.nist.gov/feeds/json/cve/1.1/nvdcve-1.1-2002.json.zip',\n",
    "        'https://nvd.nist.gov/feeds/json/cve/1.1/nvdcve-1.1-2003.json.zip',\n",
    "        'https://nvd.nist.gov/feeds/json/cve/1.1/nvdcve-1.1-2004.json.zip',\n",
    "        'https://nvd.nist.gov/feeds/json/cve/1.1/nvdcve-1.1-2005.json.zip',\n",
    "        'https://nvd.nist.gov/feeds/json/cve/1.1/nvdcve-1.1-2006.json.zip',\n",
    "        'https://nvd.nist.gov/feeds/json/cve/1.1/nvdcve-1.1-2007.json.zip',\n",
    "        'https://nvd.nist.gov/feeds/json/cve/1.1/nvdcve-1.1-2008.json.zip',\n",
    "        'https://nvd.nist.gov/feeds/json/cve/1.1/nvdcve-1.1-2009.json.zip',\n",
    "        'https://nvd.nist.gov/feeds/json/cve/1.1/nvdcve-1.1-2010.json.zip',\n",
    "        'https://nvd.nist.gov/feeds/json/cve/1.1/nvdcve-1.1-2011.json.zip',\n",
    "        'https://nvd.nist.gov/feeds/json/cve/1.1/nvdcve-1.1-2012.json.zip',\n",
    "        'https://nvd.nist.gov/feeds/json/cve/1.1/nvdcve-1.1-2013.json.zip',\n",
    "        'https://nvd.nist.gov/feeds/json/cve/1.1/nvdcve-1.1-2014.json.zip',\n",
    "        'https://nvd.nist.gov/feeds/json/cve/1.1/nvdcve-1.1-2015.json.zip',\n",
    "        'https://nvd.nist.gov/feeds/json/cve/1.1/nvdcve-1.1-2016.json.zip',\n",
    "        'https://nvd.nist.gov/feeds/json/cve/1.1/nvdcve-1.1-2017.json.zip',\n",
    "        'https://nvd.nist.gov/feeds/json/cve/1.1/nvdcve-1.1-2018.json.zip',\n",
    "        'https://nvd.nist.gov/feeds/json/cve/1.1/nvdcve-1.1-2019.json.zip',\n",
    "        'https://nvd.nist.gov/feeds/json/cve/1.1/nvdcve-1.1-2020.json.zip',\n",
    "        'https://nvd.nist.gov/feeds/json/cve/1.1/nvdcve-1.1-2021.json.zip',\n",
    "        'https://nvd.nist.gov/feeds/json/cve/1.1/nvdcve-1.1-2022.json.zip',\n",
    "        'https://nvd.nist.gov/feeds/json/cve/1.1/nvdcve-1.1-2023.json.zip',\n",
    "        'https://nvd.nist.gov/feeds/json/cve/1.1/nvdcve-1.1-2024.json.zip',\n",
    "        'https://nvd.nist.gov/feeds/json/cve/1.1/nvdcve-1.1-recent.json.zip'\n",
    "    ]\n",
    "\n",
    "# Iterate through each URL\n",
    "for url in fileUrls:\n",
    "    filename = url.split(\"/\")[-1]\n",
    "    outputfile = os.path.join(data_dir, filename)\n",
    "    checkfile = os.path.join(data_dir, os.path.splitext(filename)[0])\n",
    "\n",
    "    # Check if the file already exists\n",
    "    if not os.path.exists(checkfile):\n",
    "        # Download the file\n",
    "        urllib.request.urlretrieve(url, outputfile)\n",
    "        print(f\"Downloaded: {filename}\")\n",
    "\n",
    "        # Extract the file\n",
    "        with zipfile.ZipFile(outputfile, \"r\") as zip_ref:\n",
    "            zip_ref.extractall(data_dir)\n",
    "\n",
    "        # Delete the original zip file\n",
    "        os.remove(outputfile)\n",
    "\n"
   ]
  },
  {
   "cell_type": "code",
   "execution_count": 25,
   "id": "a0a35d5c-291b-44b8-b51d-71ad35bf0f99",
   "metadata": {},
   "outputs": [
    {
     "name": "stderr",
     "output_type": "stream",
     "text": [
      "                                                                                \r"
     ]
    },
    {
     "name": "stdout",
     "output_type": "stream",
     "text": [
      "+--------------------+\n",
      "|                cves|\n",
      "+--------------------+\n",
      "|{{4.0, [{[], [{cp...|\n",
      "|{{4.0, [{[], [{cp...|\n",
      "|{{4.0, [{[], [{cp...|\n",
      "|{{4.0, [{[], [{cp...|\n",
      "|{{4.0, [{[], [{cp...|\n",
      "|{{4.0, [{[], [{cp...|\n",
      "|{{4.0, [{[], [{cp...|\n",
      "|{{4.0, [{[], [{cp...|\n",
      "|{{4.0, [{[], [{cp...|\n",
      "|{{4.0, [{[], [{cp...|\n",
      "|{{4.0, [{[], [{cp...|\n",
      "|{{4.0, [{[], [{cp...|\n",
      "|{{4.0, [{[], [{cp...|\n",
      "|{{4.0, [{[], [{cp...|\n",
      "|{{4.0, [{[], [{cp...|\n",
      "|{{4.0, [{[], [{cp...|\n",
      "|{{4.0, [{[], [{cp...|\n",
      "|{{4.0, [{[], [{cp...|\n",
      "|{{4.0, [{[], [{cp...|\n",
      "|{{4.0, [{[], [{cp...|\n",
      "+--------------------+\n",
      "only showing top 20 rows\n",
      "\n"
     ]
    },
    {
     "name": "stderr",
     "output_type": "stream",
     "text": [
      "[Stage 2:>                                                          (0 + 1) / 1]\r"
     ]
    },
    {
     "name": "stdout",
     "output_type": "stream",
     "text": [
      "Number of docs: 20453\n"
     ]
    },
    {
     "name": "stderr",
     "output_type": "stream",
     "text": [
      "                                                                                \r"
     ]
    }
   ],
   "source": [
    "spark = (\n",
    "    SparkSession.builder\n",
    "        .master(\"local[*]\")\n",
    "        .appName(\"voltcve\")\n",
    "        .config(\"spark.driver.host\", \"127.0.0.1\")\n",
    "        .config(\"spark.driver.bindAddress\", \"127.0.0.1\")\n",
    "        .config(\"spark.default.parallelism\", 8)\n",
    "        .getOrCreate()\n",
    ")\n",
    "# read the data\n",
    "cves = spark.read.option(\"multiline\", \"true\").json(\"data/nvdcve-1.1-2020.json\")\n",
    "\n",
    "# Manipulate the data to be more usable \n",
    "exploded = cves.select(explode(col(\"CVE_Items\")).alias(\"cves\"))\n",
    "\n",
    "# Now 'exploded' contains individual rows for each 'CVE_Item'\n",
    "exploded.show()\n",
    "\n",
    "descr_df = exploded.select(col(\"cves.cve.CVE_data_meta.ID\").alias(\"id\"),\n",
    "          col(\"cves.cve.description.description_data.value\").alias(\"description\"));\n",
    "\n",
    "descr_df = descr_df.withColumn(\"description_single\", concat_ws(\" \", descr_df[\"description\"]))\n",
    "\n",
    "\n",
    "doc_count = descr_df.selectExpr(\"count(distinct id)\").first()[0]\n",
    "print(\"Number of docs: {}\".format(doc_count))"
   ]
  },
  {
   "cell_type": "code",
   "execution_count": 27,
   "id": "850909ac-b461-45b6-8d55-327f2d71609b",
   "metadata": {},
   "outputs": [
    {
     "name": "stdout",
     "output_type": "stream",
     "text": [
      "beautiful day\n"
     ]
    },
    {
     "name": "stderr",
     "output_type": "stream",
     "text": [
      "                                                                                \r"
     ]
    },
    {
     "name": "stdout",
     "output_type": "stream",
     "text": [
      "+-------------+--------------------+--------------------+\n",
      "|           id|         description|  description_single|\n",
      "+-------------+--------------------+--------------------+\n",
      "|CVE-2020-0001|[In getProcessRec...|In getProcessReco...|\n",
      "|CVE-2020-0002|[In ih264d_init_d...|In ih264d_init_de...|\n",
      "|CVE-2020-0003|[In onCreate of I...|In onCreate of In...|\n",
      "|CVE-2020-0004|[In generateCrop ...|In generateCrop o...|\n",
      "|CVE-2020-0005|[In btm_read_remo...|In btm_read_remot...|\n",
      "|CVE-2020-0006|[In rw_i93_send_c...|In rw_i93_send_cm...|\n",
      "|CVE-2020-0007|[In flattenString...|In flattenString8...|\n",
      "|CVE-2020-0008|[In LowEnergyClie...|In LowEnergyClien...|\n",
      "|CVE-2020-0009|[In calc_vm_may_f...|In calc_vm_may_fl...|\n",
      "|CVE-2020-0010|[In fpc_ta_get_bu...|In fpc_ta_get_bui...|\n",
      "|CVE-2020-0011|[In get_auth_resu...|In get_auth_resul...|\n",
      "|CVE-2020-0012|[In fpc_ta_pn_get...|In fpc_ta_pn_get_...|\n",
      "|CVE-2020-0014|[It is possible f...|It is possible fo...|\n",
      "|CVE-2020-0015|[In onCreate of C...|In onCreate of Ce...|\n",
      "|CVE-2020-0016|[In the Broadcom ...|In the Broadcom N...|\n",
      "|CVE-2020-0017|[In multiple plac...|In multiple place...|\n",
      "|CVE-2020-0018|[In MotionEntry::...|In MotionEntry::a...|\n",
      "|CVE-2020-0019|[In the Broadcom ...|In the Broadcom N...|\n",
      "|CVE-2020-0020|[In getAttributeR...|In getAttributeRa...|\n",
      "|CVE-2020-0021|[In removeUnusedP...|In removeUnusedPa...|\n",
      "+-------------+--------------------+--------------------+\n",
      "only showing top 20 rows\n",
      "\n"
     ]
    },
    {
     "name": "stderr",
     "output_type": "stream",
     "text": [
      "[Stage 11:>                                                         (0 + 1) / 1]\r"
     ]
    },
    {
     "name": "stdout",
     "output_type": "stream",
     "text": [
      "+-------------+--------------------+\n",
      "|           id|              tokens|\n",
      "+-------------+--------------------+\n",
      "|CVE-2020-0001|                  in|\n",
      "|CVE-2020-0001|getprocessrecordl...|\n",
      "|CVE-2020-0001|                  of|\n",
      "|CVE-2020-0001|activitymanagerse...|\n",
      "|CVE-2020-0001|            isolated|\n",
      "|CVE-2020-0001|                apps|\n",
      "|CVE-2020-0001|                 are|\n",
      "|CVE-2020-0001|                 not|\n",
      "|CVE-2020-0001|             handled|\n",
      "|CVE-2020-0001|           correctly|\n",
      "|CVE-2020-0001|                this|\n",
      "|CVE-2020-0001|               could|\n",
      "|CVE-2020-0001|                lead|\n",
      "|CVE-2020-0001|                  to|\n",
      "|CVE-2020-0001|               local|\n",
      "|CVE-2020-0001|          escalation|\n",
      "|CVE-2020-0001|                  of|\n",
      "|CVE-2020-0001|           privilege|\n",
      "|CVE-2020-0001|                with|\n",
      "|CVE-2020-0001|                  no|\n",
      "+-------------+--------------------+\n",
      "only showing top 20 rows\n",
      "\n"
     ]
    },
    {
     "name": "stderr",
     "output_type": "stream",
     "text": [
      "                                                                                \r"
     ]
    }
   ],
   "source": [
    "@udf\n",
    "def string_cleaner(input_str):\n",
    "    # 1. Replace all \".\" or ':' followed by whitespace with an empty string.\n",
    "    # a. Remove ending periods.\n",
    "    # 2. Remove trademark, rights.\n",
    "    # 3. Grab cotent in parentheses only.\n",
    "    # 4. Remove some punctuation.\n",
    "    cleaned_text = re.sub(r\"[.:,]+\\s+\", \" \", input_str)\n",
    "    # Remove trailing periods\n",
    "    cleaned_text = re.sub(r\"\\.$\", \"\", cleaned_text)\n",
    "    # Remove apostrophes, (TM), (R), parentheses, and double quotes\n",
    "    cleaned_text = re.sub(r\"\\'|\\(TM\\)|\\(R\\)|\\(|\\)|\\\"\", \"\", cleaned_text)\n",
    "    # Convert to lowercase and strip leading/trailing spaces\n",
    "    cleaned_text = cleaned_text.strip().lower()\n",
    "    return cleaned_text\n",
    "\n",
    "\n",
    "test = \"Beautiful day.\"\n",
    "print(string_cleaner2(test))\n",
    "\n",
    "clean_tokens = descr_df.withColumn(\"tokens\", explode(split(string_cleaner(col(\"description_single\")), \" \" )))\n",
    "clean_tokens = clean_tokens.select(\"id\", \"tokens\")\n",
    "clean_tokens = clean_tokens.filter(col(\"tokens\").isNotNull())\n",
    "\n",
    "# Show the resulting DataFrame\n",
    "descr_df.show()\n",
    "\n",
    "clean_tokens.show()\n"
   ]
  },
  {
   "cell_type": "code",
   "execution_count": 16,
   "id": "46f82bcc-458e-4599-9b31-bb781f28bafc",
   "metadata": {},
   "outputs": [],
   "source": [
    "spark.stop()"
   ]
  },
  {
   "cell_type": "code",
   "execution_count": null,
   "id": "396ff4a5-c2c5-4cee-99bb-e609153b7e8d",
   "metadata": {},
   "outputs": [],
   "source": []
  },
  {
   "cell_type": "code",
   "execution_count": null,
   "id": "3a0c132c-48b9-4a12-992f-169c8e58abe3",
   "metadata": {},
   "outputs": [],
   "source": []
  }
 ],
 "metadata": {
  "kernelspec": {
   "display_name": "Python 3 (ipykernel)",
   "language": "python",
   "name": "python3"
  },
  "language_info": {
   "codemirror_mode": {
    "name": "ipython",
    "version": 3
   },
   "file_extension": ".py",
   "mimetype": "text/x-python",
   "name": "python",
   "nbconvert_exporter": "python",
   "pygments_lexer": "ipython3",
   "version": "3.10.12"
  }
 },
 "nbformat": 4,
 "nbformat_minor": 5
}
